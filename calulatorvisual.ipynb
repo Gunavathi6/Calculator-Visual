{
 "cells": [
  {
   "cell_type": "code",
   "execution_count": null,
   "id": "a2ef3d4a-22d0-4145-b4c8-cca328679de4",
   "metadata": {},
   "outputs": [],
   "source": [
    "import tkinter as tk\n",
    "\n",
    "def on_click(event):\n",
    "    \"\"\"Handles button click event\"\"\"\n",
    "    text = event.widget.cget(\"text\")\n",
    "    if text == \"=\":\n",
    "        try:\n",
    "            result.set(eval(entry.get()))\n",
    "        except Exception as e:\n",
    "            result.set(\"Error\")\n",
    "    elif text == \"C\":\n",
    "        entry.set(\"\")\n",
    "        result.set(\"\")\n",
    "    else:\n",
    "        entry.set(entry.get() + text)\n",
    "\n",
    "# Create the main window\n",
    "root = tk.Tk()\n",
    "root.title(\"Calculator\")\n",
    "\n",
    "# Input field\n",
    "entry = tk.StringVar()\n",
    "result = tk.StringVar()\n",
    "entry_field = tk.Entry(root, textvariable=entry, font=(\"Arial\", 20), justify=\"right\")\n",
    "entry_field.grid(row=0, column=0, columnspan=4)\n",
    "\n",
    "# Button layout\n",
    "buttons = [\n",
    "    \"7\", \"8\", \"9\", \"/\", \n",
    "    \"4\", \"5\", \"6\", \"*\", \n",
    "    \"1\", \"2\", \"3\", \"-\", \n",
    "    \"C\", \"0\", \"=\", \"+\"\n",
    "]\n",
    "\n",
    "row_val = 1\n",
    "col_val = 0\n",
    "for button in buttons:\n",
    "    btn = tk.Button(root, text=button, font=(\"Arial\", 20), width=5, height=2)\n",
    "    btn.grid(row=row_val, column=col_val)\n",
    "    btn.bind(\"<Button-1>\", on_click)\n",
    "    col_val += 1\n",
    "    if col_val > 3:\n",
    "        col_val = 0\n",
    "        row_val += 1\n",
    "\n",
    "# Result display\n",
    "result_label = tk.Label(root, textvariable=result, font=(\"Arial\", 20), fg=\"blue\")\n",
    "result_label.grid(row=row_val, column=0, columnspan=4)\n",
    "\n",
    "root.mainloop()"
   ]
  },
  {
   "cell_type": "code",
   "execution_count": null,
   "id": "9a74e84e-8018-42b2-b4ab-2a04943fb453",
   "metadata": {},
   "outputs": [],
   "source": []
  }
 ],
 "metadata": {
  "kernelspec": {
   "display_name": "Python [conda env:base] *",
   "language": "python",
   "name": "conda-base-py"
  },
  "language_info": {
   "codemirror_mode": {
    "name": "ipython",
    "version": 3
   },
   "file_extension": ".py",
   "mimetype": "text/x-python",
   "name": "python",
   "nbconvert_exporter": "python",
   "pygments_lexer": "ipython3",
   "version": "3.12.7"
  }
 },
 "nbformat": 4,
 "nbformat_minor": 5
}
